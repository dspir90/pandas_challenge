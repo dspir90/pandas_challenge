{
 "cells": [
  {
   "cell_type": "markdown",
   "id": "75d803c8",
   "metadata": {},
   "source": [
    "# Dependencies and Setup"
   ]
  },
  {
   "cell_type": "code",
   "execution_count": 2,
   "id": "1aae817f",
   "metadata": {},
   "outputs": [],
   "source": [
    "import pandas as pd"
   ]
  },
  {
   "cell_type": "code",
   "execution_count": 3,
   "id": "d69821d7",
   "metadata": {},
   "outputs": [],
   "source": [
    "# File to Load"
   ]
  },
  {
   "cell_type": "code",
   "execution_count": 5,
   "id": "1c326525",
   "metadata": {},
   "outputs": [],
   "source": [
    "school_data_to_load = (\"/Users/davidspir/anaconda3/schools_complete.2.csv\")\n",
    "student_data_to_load = (\"/Users/davidspir/anaconda3/students_complete.csv\")\n"
   ]
  },
  {
   "cell_type": "code",
   "execution_count": 5,
   "id": "3768a6ac",
   "metadata": {},
   "outputs": [],
   "source": []
  },
  {
   "cell_type": "code",
   "execution_count": 5,
   "id": "c5949b0b",
   "metadata": {},
   "outputs": [],
   "source": [
    "\n"
   ]
  },
  {
   "cell_type": "code",
   "execution_count": 6,
   "id": "4d3edc4f",
   "metadata": {},
   "outputs": [],
   "source": [
    "# Read School and Student Data File and store into Pandas Data Frames"
   ]
  },
  {
   "cell_type": "code",
   "execution_count": 7,
   "id": "a1933def",
   "metadata": {},
   "outputs": [],
   "source": [
    "school_data = pd.read_csv(school_data_to_load)\n",
    "student_data = pd.read_csv(student_data_to_load)"
   ]
  },
  {
   "cell_type": "code",
   "execution_count": 8,
   "id": "dc0eea62",
   "metadata": {},
   "outputs": [],
   "source": [
    "# Combine the data into a single dataset"
   ]
  },
  {
   "cell_type": "code",
   "execution_count": 9,
   "id": "0c94e453",
   "metadata": {},
   "outputs": [],
   "source": [
    "school_data_complete = pd.merge(student_data, school_data, how=\"left\", on=[\"school_name\", \"school_name\"])"
   ]
  },
  {
   "cell_type": "code",
   "execution_count": null,
   "id": "ab00058b",
   "metadata": {},
   "outputs": [],
   "source": [
    "# DISTRICT SUMMARY"
   ]
  },
  {
   "cell_type": "code",
   "execution_count": 10,
   "id": "fc95e4bf",
   "metadata": {},
   "outputs": [],
   "source": [
    "# Total number of schools"
   ]
  },
  {
   "cell_type": "code",
   "execution_count": 22,
   "id": "7b951ab5",
   "metadata": {},
   "outputs": [
    {
     "data": {
      "text/plain": [
       "15"
      ]
     },
     "execution_count": 22,
     "metadata": {},
     "output_type": "execute_result"
    }
   ],
   "source": [
    "total_schools = len(school_data_complete.school_name.unique())\n",
    "total_schools"
   ]
  },
  {
   "cell_type": "code",
   "execution_count": 12,
   "id": "3725d66f",
   "metadata": {},
   "outputs": [],
   "source": [
    "# Total number of students"
   ]
  },
  {
   "cell_type": "code",
   "execution_count": 23,
   "id": "6d86abcc",
   "metadata": {},
   "outputs": [
    {
     "data": {
      "text/plain": [
       "39170"
      ]
     },
     "execution_count": 23,
     "metadata": {},
     "output_type": "execute_result"
    }
   ],
   "source": [
    "total_students = school_data_complete.student_name.count()\n",
    "total_students"
   ]
  },
  {
   "cell_type": "code",
   "execution_count": 14,
   "id": "8e8eb745",
   "metadata": {},
   "outputs": [],
   "source": [
    "# Total budget"
   ]
  },
  {
   "cell_type": "code",
   "execution_count": 24,
   "id": "0d535224",
   "metadata": {},
   "outputs": [
    {
     "data": {
      "text/plain": [
       "24649428"
      ]
     },
     "execution_count": 24,
     "metadata": {},
     "output_type": "execute_result"
    }
   ],
   "source": [
    "total_budget = sum(school_data_complete.budget.unique())\n",
    "total_budget"
   ]
  },
  {
   "cell_type": "code",
   "execution_count": 16,
   "id": "387d6970",
   "metadata": {},
   "outputs": [],
   "source": [
    "# Average math score"
   ]
  },
  {
   "cell_type": "code",
   "execution_count": 25,
   "id": "04b9df2e",
   "metadata": {},
   "outputs": [
    {
     "data": {
      "text/plain": [
       "78.98537145774827"
      ]
     },
     "execution_count": 25,
     "metadata": {},
     "output_type": "execute_result"
    }
   ],
   "source": [
    "average_math_score = school_data_complete.math_score.mean()\n",
    "average_math_score"
   ]
  },
  {
   "cell_type": "code",
   "execution_count": 18,
   "id": "4a0f6220",
   "metadata": {},
   "outputs": [],
   "source": [
    "# Average reading score"
   ]
  },
  {
   "cell_type": "code",
   "execution_count": 26,
   "id": "ffd29391",
   "metadata": {},
   "outputs": [
    {
     "data": {
      "text/plain": [
       "81.87784018381414"
      ]
     },
     "execution_count": 26,
     "metadata": {},
     "output_type": "execute_result"
    }
   ],
   "source": [
    "average_reading_score = school_data_complete.reading_score.mean()\n",
    "average_reading_score"
   ]
  },
  {
   "cell_type": "code",
   "execution_count": 20,
   "id": "ebc8e7bc",
   "metadata": {},
   "outputs": [],
   "source": [
    "# Percentage of students with passing math score"
   ]
  },
  {
   "cell_type": "code",
   "execution_count": 41,
   "id": "3134c451",
   "metadata": {},
   "outputs": [
    {
     "data": {
      "text/plain": [
       "0.749808526933878"
      ]
     },
     "execution_count": 41,
     "metadata": {},
     "output_type": "execute_result"
    }
   ],
   "source": [
    "passing_math_percentage = (school_data_complete[school_data_complete['math_score'] >= 70].math_score.count()) / total_students\n",
    "passing_math_percentage"
   ]
  },
  {
   "cell_type": "code",
   "execution_count": 27,
   "id": "193a791a",
   "metadata": {},
   "outputs": [],
   "source": [
    "# Percentage of students with passing reading score"
   ]
  },
  {
   "cell_type": "code",
   "execution_count": 42,
   "id": "10fecd4e",
   "metadata": {},
   "outputs": [
    {
     "data": {
      "text/plain": [
       "0.8580546336482001"
      ]
     },
     "execution_count": 42,
     "metadata": {},
     "output_type": "execute_result"
    }
   ],
   "source": [
    "passing_reading_percentage = (school_data_complete[school_data_complete['reading_score'] >= 70].reading_score.count()) / total_students\n",
    "passing_reading_percentage"
   ]
  },
  {
   "cell_type": "code",
   "execution_count": 31,
   "id": "500a7412",
   "metadata": {},
   "outputs": [],
   "source": [
    "# Overall passing rate"
   ]
  },
  {
   "cell_type": "code",
   "execution_count": 43,
   "id": "53c34a48",
   "metadata": {},
   "outputs": [
    {
     "data": {
      "text/plain": [
       "0.8039315802910391"
      ]
     },
     "execution_count": 43,
     "metadata": {},
     "output_type": "execute_result"
    }
   ],
   "source": [
    "overall_passing_rate = (passing_math_percentage + passing_reading_percentage)/2\n",
    "overall_passing_rate"
   ]
  },
  {
   "cell_type": "code",
   "execution_count": 36,
   "id": "171af6f4",
   "metadata": {},
   "outputs": [],
   "source": [
    "# Store all calculations into dataframe"
   ]
  },
  {
   "cell_type": "code",
   "execution_count": 44,
   "id": "3d2d38f2",
   "metadata": {},
   "outputs": [],
   "source": [
    "district_summary = pd.DataFrame({\"Total Schools\":[total_schools],\n",
    "                                 \"Total Students\":[total_students],\n",
    "                                 \"Total Budget\":[total_budget],\n",
    "                                 \"Average Math Score\":[average_math_score],\n",
    "                                 \"Average Reading Score\":[average_reading_score],\n",
    "                                 \"% Passing Math\":[passing_math_percentage*100],\n",
    "                                 \"% Passing Reading\":[passing_reading_percentage*100],\n",
    "                                 \"% Overall Passing Rate\":[overall_passing_rate*100]})\n"
   ]
  },
  {
   "cell_type": "code",
   "execution_count": 38,
   "id": "7c6ea6ea",
   "metadata": {},
   "outputs": [],
   "source": [
    "# Reformat Total Students and Total Budget"
   ]
  },
  {
   "cell_type": "code",
   "execution_count": 45,
   "id": "dab694f3",
   "metadata": {},
   "outputs": [],
   "source": [
    "district_summary['Total Students'] = district_summary.apply(lambda x: \"{:,.0f}\".format(x['Total Students']), axis=1)\n",
    "district_summary['Total Budget'] = district_summary.apply(lambda x: \"${:,.2f}\".format(x['Total Budget']), axis=1)\n"
   ]
  },
  {
   "cell_type": "code",
   "execution_count": 46,
   "id": "7dd807f0",
   "metadata": {},
   "outputs": [
    {
     "data": {
      "text/html": [
       "<div>\n",
       "<style scoped>\n",
       "    .dataframe tbody tr th:only-of-type {\n",
       "        vertical-align: middle;\n",
       "    }\n",
       "\n",
       "    .dataframe tbody tr th {\n",
       "        vertical-align: top;\n",
       "    }\n",
       "\n",
       "    .dataframe thead th {\n",
       "        text-align: right;\n",
       "    }\n",
       "</style>\n",
       "<table border=\"1\" class=\"dataframe\">\n",
       "  <thead>\n",
       "    <tr style=\"text-align: right;\">\n",
       "      <th></th>\n",
       "      <th>Total Schools</th>\n",
       "      <th>Total Students</th>\n",
       "      <th>Total Budget</th>\n",
       "      <th>Average Math Score</th>\n",
       "      <th>Average Reading Score</th>\n",
       "      <th>% Passing Math</th>\n",
       "      <th>% Passing Reading</th>\n",
       "      <th>% Overall Passing Rate</th>\n",
       "    </tr>\n",
       "  </thead>\n",
       "  <tbody>\n",
       "    <tr>\n",
       "      <th>0</th>\n",
       "      <td>15</td>\n",
       "      <td>39,170</td>\n",
       "      <td>$24,649,428.00</td>\n",
       "      <td>78.985371</td>\n",
       "      <td>81.87784</td>\n",
       "      <td>74.980853</td>\n",
       "      <td>85.805463</td>\n",
       "      <td>80.393158</td>\n",
       "    </tr>\n",
       "  </tbody>\n",
       "</table>\n",
       "</div>"
      ],
      "text/plain": [
       "   Total Schools Total Students    Total Budget  Average Math Score  \\\n",
       "0             15         39,170  $24,649,428.00           78.985371   \n",
       "\n",
       "   Average Reading Score  % Passing Math  % Passing Reading  \\\n",
       "0               81.87784       74.980853          85.805463   \n",
       "\n",
       "   % Overall Passing Rate  \n",
       "0               80.393158  "
      ]
     },
     "execution_count": 46,
     "metadata": {},
     "output_type": "execute_result"
    }
   ],
   "source": [
    "# Print Summary Dataframe\n",
    "district_summary\n"
   ]
  },
  {
   "cell_type": "code",
   "execution_count": null,
   "id": "b6a721d0",
   "metadata": {},
   "outputs": [],
   "source": []
  },
  {
   "cell_type": "code",
   "execution_count": 47,
   "id": "aa25c8b7",
   "metadata": {},
   "outputs": [],
   "source": [
    "# SCHOOL SUMMARY"
   ]
  },
  {
   "cell_type": "code",
   "execution_count": 49,
   "id": "67580115",
   "metadata": {},
   "outputs": [
    {
     "data": {
      "text/plain": [
       "<pandas.core.groupby.generic.DataFrameGroupBy object at 0x1613d9b10>"
      ]
     },
     "execution_count": 49,
     "metadata": {},
     "output_type": "execute_result"
    }
   ],
   "source": [
    "school_summary = school_data_complete.groupby(['school_name'])\n",
    "school_summary"
   ]
  },
  {
   "cell_type": "code",
   "execution_count": 53,
   "id": "086e8bd5",
   "metadata": {},
   "outputs": [
    {
     "data": {
      "text/plain": [
       "array(['Bailey High School', 'Cabrera High School',\n",
       "       'Figueroa High School', 'Ford High School', 'Griffin High School',\n",
       "       'Hernandez High School', 'Holden High School', 'Huang High School',\n",
       "       'Johnson High School', 'Pena High School', 'Rodriguez High School',\n",
       "       'Shelton High School', 'Thomas High School', 'Wilson High School',\n",
       "       'Wright High School'], dtype=object)"
      ]
     },
     "execution_count": 53,
     "metadata": {},
     "output_type": "execute_result"
    }
   ],
   "source": [
    "school_names = school_data_complete.school_name.sort_values().unique()\n",
    "school_names"
   ]
  },
  {
   "cell_type": "code",
   "execution_count": 54,
   "id": "446ac488",
   "metadata": {},
   "outputs": [
    {
     "data": {
      "text/plain": [
       "7     District\n",
       "6      Charter\n",
       "1     District\n",
       "13    District\n",
       "4      Charter\n",
       "3     District\n",
       "8      Charter\n",
       "0     District\n",
       "12    District\n",
       "9      Charter\n",
       "11    District\n",
       "2      Charter\n",
       "14     Charter\n",
       "5      Charter\n",
       "10     Charter\n",
       "Name: type, dtype: object"
      ]
     },
     "execution_count": 54,
     "metadata": {},
     "output_type": "execute_result"
    }
   ],
   "source": [
    "school_types = school_data.sort_values(by=\"school_name\").type\n",
    "school_types"
   ]
  },
  {
   "cell_type": "code",
   "execution_count": 55,
   "id": "6d7f7ac8",
   "metadata": {},
   "outputs": [
    {
     "data": {
      "text/plain": [
       "[4976,\n",
       " 1858,\n",
       " 2949,\n",
       " 2739,\n",
       " 1468,\n",
       " 4635,\n",
       " 427,\n",
       " 2917,\n",
       " 4761,\n",
       " 962,\n",
       " 3999,\n",
       " 1761,\n",
       " 1635,\n",
       " 2283,\n",
       " 1800]"
      ]
     },
     "execution_count": 55,
     "metadata": {},
     "output_type": "execute_result"
    }
   ],
   "source": [
    "school_total_students = list(school_summary.student_name.count())\n",
    "school_total_students"
   ]
  },
  {
   "cell_type": "code",
   "execution_count": 56,
   "id": "6ec24ceb",
   "metadata": {},
   "outputs": [
    {
     "data": {
      "text/plain": [
       "[3124928.0,\n",
       " 1081356.0,\n",
       " 1884411.0,\n",
       " 1763916.0,\n",
       " 917500.0,\n",
       " 3022020.0,\n",
       " 248087.0,\n",
       " 1910635.0,\n",
       " 3094650.0,\n",
       " 585858.0,\n",
       " 2547363.0,\n",
       " 1056600.0,\n",
       " 1043130.0,\n",
       " 1319574.0,\n",
       " 1049400.0]"
      ]
     },
     "execution_count": 56,
     "metadata": {},
     "output_type": "execute_result"
    }
   ],
   "source": [
    "school_budget = list(school_summary.budget.mean())\n",
    "school_budget"
   ]
  },
  {
   "cell_type": "code",
   "execution_count": 57,
   "id": "39b3ede9",
   "metadata": {},
   "outputs": [
    {
     "data": {
      "text/plain": [
       "[628.0,\n",
       " 582.0,\n",
       " 639.0,\n",
       " 644.0,\n",
       " 625.0,\n",
       " 652.0,\n",
       " 581.0,\n",
       " 655.0,\n",
       " 650.0,\n",
       " 609.0,\n",
       " 637.0,\n",
       " 600.0,\n",
       " 638.0,\n",
       " 578.0,\n",
       " 583.0]"
      ]
     },
     "execution_count": 57,
     "metadata": {},
     "output_type": "execute_result"
    }
   ],
   "source": [
    "school_per_student_budget = [i/j for i,j in zip(school_budget,school_total_students)]\n",
    "school_per_student_budget"
   ]
  },
  {
   "cell_type": "code",
   "execution_count": 58,
   "id": "3c91a7aa",
   "metadata": {},
   "outputs": [
    {
     "data": {
      "text/plain": [
       "[77.04843247588424,\n",
       " 83.06189451022605,\n",
       " 76.71176670057646,\n",
       " 77.10259218692954,\n",
       " 83.35149863760218,\n",
       " 77.28975188781014,\n",
       " 83.80327868852459,\n",
       " 76.62941378128214,\n",
       " 77.07246376811594,\n",
       " 83.83991683991684,\n",
       " 76.84271067766942,\n",
       " 83.3594548551959,\n",
       " 83.4183486238532,\n",
       " 83.2742006132282,\n",
       " 83.68222222222222]"
      ]
     },
     "execution_count": 58,
     "metadata": {},
     "output_type": "execute_result"
    }
   ],
   "source": [
    "school_avg_math_score = list(school_summary.math_score.mean())\n",
    "school_avg_math_score"
   ]
  },
  {
   "cell_type": "code",
   "execution_count": 59,
   "id": "0a54ac49",
   "metadata": {},
   "outputs": [
    {
     "data": {
      "text/plain": [
       "[81.03396302250803,\n",
       " 83.97578040904197,\n",
       " 81.15801966768396,\n",
       " 80.74625775830594,\n",
       " 83.816757493188,\n",
       " 80.9344120819849,\n",
       " 83.81498829039812,\n",
       " 81.18272197463148,\n",
       " 80.96639361478681,\n",
       " 84.04469854469855,\n",
       " 80.74468617154288,\n",
       " 83.72572402044293,\n",
       " 83.84892966360856,\n",
       " 83.98948751642575,\n",
       " 83.955]"
      ]
     },
     "execution_count": 59,
     "metadata": {},
     "output_type": "execute_result"
    }
   ],
   "source": [
    "school_avg_reading_score = list(school_summary.reading_score.mean())\n",
    "school_avg_reading_score"
   ]
  },
  {
   "cell_type": "code",
   "execution_count": null,
   "id": "fb8ac590",
   "metadata": {},
   "outputs": [],
   "source": [
    "# Calculating passing percentages"
   ]
  },
  {
   "cell_type": "code",
   "execution_count": 64,
   "id": "6a4a7526",
   "metadata": {},
   "outputs": [],
   "source": [
    "school_summary = school_data_complete[school_data_complete['math_score'] >= 70].groupby(['school_name'])\n"
   ]
  },
  {
   "cell_type": "code",
   "execution_count": 66,
   "id": "030db8fb",
   "metadata": {},
   "outputs": [
    {
     "data": {
      "text/plain": [
       "[66.68006430868168,\n",
       " 94.1334768568353,\n",
       " 65.98847066802306,\n",
       " 68.3096020445418,\n",
       " 93.39237057220708,\n",
       " 66.7529665587918,\n",
       " 92.50585480093677,\n",
       " 65.68392183750429,\n",
       " 66.0575509346776,\n",
       " 94.5945945945946,\n",
       " 66.36659164791197,\n",
       " 93.8671209540034,\n",
       " 93.27217125382263,\n",
       " 93.8677179150241,\n",
       " 93.33333333333333]"
      ]
     },
     "execution_count": 66,
     "metadata": {},
     "output_type": "execute_result"
    }
   ],
   "source": [
    "school_percentage_passing_math = [(i/j)*100 for i,j in zip(school_summary.math_score.count(),school_total_students)]\n",
    "school_percentage_passing_math"
   ]
  },
  {
   "cell_type": "code",
   "execution_count": 187,
   "id": "f1dcb0de",
   "metadata": {},
   "outputs": [
    {
     "data": {
      "text/plain": [
       "<pandas.core.groupby.generic.DataFrameGroupBy object at 0x1687649d0>"
      ]
     },
     "execution_count": 187,
     "metadata": {},
     "output_type": "execute_result"
    }
   ],
   "source": [
    "school_summary = school_data_complete[school_data_complete['reading_score'] >= 70].groupby(['school_name'])\n"
   ]
  },
  {
   "cell_type": "code",
   "execution_count": 69,
   "id": "70a69d8a",
   "metadata": {},
   "outputs": [
    {
     "data": {
      "text/plain": [
       "[81.93327974276528,\n",
       " 97.03982777179763,\n",
       " 80.73923363852154,\n",
       " 79.29901423877328,\n",
       " 97.13896457765668,\n",
       " 80.86299892125135,\n",
       " 96.25292740046838,\n",
       " 81.31642098045938,\n",
       " 81.2224322621298,\n",
       " 95.94594594594594,\n",
       " 80.22005501375344,\n",
       " 95.85462805224304,\n",
       " 97.30886850152906,\n",
       " 96.53964082347788,\n",
       " 96.61111111111111]"
      ]
     },
     "execution_count": 69,
     "metadata": {},
     "output_type": "execute_result"
    }
   ],
   "source": [
    "school_percentage_passing_reading = [(i/j)*100 for i,j in zip(school_summary.reading_score.count(),school_total_students)]\n",
    "school_percentage_passing_reading"
   ]
  },
  {
   "cell_type": "code",
   "execution_count": 75,
   "id": "f1d80aed",
   "metadata": {},
   "outputs": [
    {
     "data": {
      "text/plain": [
       "[74.30667202572349,\n",
       " 95.58665231431647,\n",
       " 73.36385215327229,\n",
       " 73.80430814165754,\n",
       " 95.26566757493188,\n",
       " 73.80798274002157,\n",
       " 94.37939110070258,\n",
       " 73.50017140898183,\n",
       " 73.6399915984037,\n",
       " 95.27027027027026,\n",
       " 73.2933233308327,\n",
       " 94.86087450312323,\n",
       " 95.29051987767585,\n",
       " 95.20367936925099,\n",
       " 94.97222222222223]"
      ]
     },
     "execution_count": 75,
     "metadata": {},
     "output_type": "execute_result"
    }
   ],
   "source": [
    "school_overall_passing = [(i+j)/2 for i,j in zip(school_percentage_passing_math,school_percentage_passing_reading)]\n",
    "school_overall_passing "
   ]
  },
  {
   "cell_type": "code",
   "execution_count": 73,
   "id": "71cb6fba",
   "metadata": {},
   "outputs": [],
   "source": [
    "# all calculations into dataframe"
   ]
  },
  {
   "cell_type": "code",
   "execution_count": 188,
   "id": "75673936",
   "metadata": {},
   "outputs": [
    {
     "data": {
      "text/html": [
       "<div>\n",
       "<style scoped>\n",
       "    .dataframe tbody tr th:only-of-type {\n",
       "        vertical-align: middle;\n",
       "    }\n",
       "\n",
       "    .dataframe tbody tr th {\n",
       "        vertical-align: top;\n",
       "    }\n",
       "\n",
       "    .dataframe thead th {\n",
       "        text-align: right;\n",
       "    }\n",
       "</style>\n",
       "<table border=\"1\" class=\"dataframe\">\n",
       "  <thead>\n",
       "    <tr style=\"text-align: right;\">\n",
       "      <th></th>\n",
       "      <th>School Names</th>\n",
       "      <th>School Type</th>\n",
       "      <th>Total Students</th>\n",
       "      <th>Total School Budget</th>\n",
       "      <th>Per Student Budget</th>\n",
       "      <th>Average Math Score</th>\n",
       "      <th>Average Reading Score</th>\n",
       "      <th>% Passing Math</th>\n",
       "      <th>% Passing Reading</th>\n",
       "      <th>Overall Passing Rate</th>\n",
       "    </tr>\n",
       "  </thead>\n",
       "  <tbody>\n",
       "    <tr>\n",
       "      <th>0</th>\n",
       "      <td>Bailey High School</td>\n",
       "      <td>District</td>\n",
       "      <td>4976</td>\n",
       "      <td>3124928.0</td>\n",
       "      <td>628.0</td>\n",
       "      <td>77.048432</td>\n",
       "      <td>81.033963</td>\n",
       "      <td>66.680064</td>\n",
       "      <td>81.933280</td>\n",
       "      <td>74.306672</td>\n",
       "    </tr>\n",
       "    <tr>\n",
       "      <th>1</th>\n",
       "      <td>Cabrera High School</td>\n",
       "      <td>Charter</td>\n",
       "      <td>1858</td>\n",
       "      <td>1081356.0</td>\n",
       "      <td>582.0</td>\n",
       "      <td>83.061895</td>\n",
       "      <td>83.975780</td>\n",
       "      <td>94.133477</td>\n",
       "      <td>97.039828</td>\n",
       "      <td>95.586652</td>\n",
       "    </tr>\n",
       "    <tr>\n",
       "      <th>2</th>\n",
       "      <td>Figueroa High School</td>\n",
       "      <td>District</td>\n",
       "      <td>2949</td>\n",
       "      <td>1884411.0</td>\n",
       "      <td>639.0</td>\n",
       "      <td>76.711767</td>\n",
       "      <td>81.158020</td>\n",
       "      <td>65.988471</td>\n",
       "      <td>80.739234</td>\n",
       "      <td>73.363852</td>\n",
       "    </tr>\n",
       "    <tr>\n",
       "      <th>3</th>\n",
       "      <td>Ford High School</td>\n",
       "      <td>District</td>\n",
       "      <td>2739</td>\n",
       "      <td>1763916.0</td>\n",
       "      <td>644.0</td>\n",
       "      <td>77.102592</td>\n",
       "      <td>80.746258</td>\n",
       "      <td>68.309602</td>\n",
       "      <td>79.299014</td>\n",
       "      <td>73.804308</td>\n",
       "    </tr>\n",
       "    <tr>\n",
       "      <th>4</th>\n",
       "      <td>Griffin High School</td>\n",
       "      <td>Charter</td>\n",
       "      <td>1468</td>\n",
       "      <td>917500.0</td>\n",
       "      <td>625.0</td>\n",
       "      <td>83.351499</td>\n",
       "      <td>83.816757</td>\n",
       "      <td>93.392371</td>\n",
       "      <td>97.138965</td>\n",
       "      <td>95.265668</td>\n",
       "    </tr>\n",
       "    <tr>\n",
       "      <th>5</th>\n",
       "      <td>Hernandez High School</td>\n",
       "      <td>District</td>\n",
       "      <td>4635</td>\n",
       "      <td>3022020.0</td>\n",
       "      <td>652.0</td>\n",
       "      <td>77.289752</td>\n",
       "      <td>80.934412</td>\n",
       "      <td>66.752967</td>\n",
       "      <td>80.862999</td>\n",
       "      <td>73.807983</td>\n",
       "    </tr>\n",
       "    <tr>\n",
       "      <th>6</th>\n",
       "      <td>Holden High School</td>\n",
       "      <td>Charter</td>\n",
       "      <td>427</td>\n",
       "      <td>248087.0</td>\n",
       "      <td>581.0</td>\n",
       "      <td>83.803279</td>\n",
       "      <td>83.814988</td>\n",
       "      <td>92.505855</td>\n",
       "      <td>96.252927</td>\n",
       "      <td>94.379391</td>\n",
       "    </tr>\n",
       "    <tr>\n",
       "      <th>7</th>\n",
       "      <td>Huang High School</td>\n",
       "      <td>District</td>\n",
       "      <td>2917</td>\n",
       "      <td>1910635.0</td>\n",
       "      <td>655.0</td>\n",
       "      <td>76.629414</td>\n",
       "      <td>81.182722</td>\n",
       "      <td>65.683922</td>\n",
       "      <td>81.316421</td>\n",
       "      <td>73.500171</td>\n",
       "    </tr>\n",
       "    <tr>\n",
       "      <th>8</th>\n",
       "      <td>Johnson High School</td>\n",
       "      <td>District</td>\n",
       "      <td>4761</td>\n",
       "      <td>3094650.0</td>\n",
       "      <td>650.0</td>\n",
       "      <td>77.072464</td>\n",
       "      <td>80.966394</td>\n",
       "      <td>66.057551</td>\n",
       "      <td>81.222432</td>\n",
       "      <td>73.639992</td>\n",
       "    </tr>\n",
       "    <tr>\n",
       "      <th>9</th>\n",
       "      <td>Pena High School</td>\n",
       "      <td>Charter</td>\n",
       "      <td>962</td>\n",
       "      <td>585858.0</td>\n",
       "      <td>609.0</td>\n",
       "      <td>83.839917</td>\n",
       "      <td>84.044699</td>\n",
       "      <td>94.594595</td>\n",
       "      <td>95.945946</td>\n",
       "      <td>95.270270</td>\n",
       "    </tr>\n",
       "    <tr>\n",
       "      <th>10</th>\n",
       "      <td>Rodriguez High School</td>\n",
       "      <td>District</td>\n",
       "      <td>3999</td>\n",
       "      <td>2547363.0</td>\n",
       "      <td>637.0</td>\n",
       "      <td>76.842711</td>\n",
       "      <td>80.744686</td>\n",
       "      <td>66.366592</td>\n",
       "      <td>80.220055</td>\n",
       "      <td>73.293323</td>\n",
       "    </tr>\n",
       "    <tr>\n",
       "      <th>11</th>\n",
       "      <td>Shelton High School</td>\n",
       "      <td>Charter</td>\n",
       "      <td>1761</td>\n",
       "      <td>1056600.0</td>\n",
       "      <td>600.0</td>\n",
       "      <td>83.359455</td>\n",
       "      <td>83.725724</td>\n",
       "      <td>93.867121</td>\n",
       "      <td>95.854628</td>\n",
       "      <td>94.860875</td>\n",
       "    </tr>\n",
       "    <tr>\n",
       "      <th>12</th>\n",
       "      <td>Thomas High School</td>\n",
       "      <td>Charter</td>\n",
       "      <td>1635</td>\n",
       "      <td>1043130.0</td>\n",
       "      <td>638.0</td>\n",
       "      <td>83.418349</td>\n",
       "      <td>83.848930</td>\n",
       "      <td>93.272171</td>\n",
       "      <td>97.308869</td>\n",
       "      <td>95.290520</td>\n",
       "    </tr>\n",
       "    <tr>\n",
       "      <th>13</th>\n",
       "      <td>Wilson High School</td>\n",
       "      <td>Charter</td>\n",
       "      <td>2283</td>\n",
       "      <td>1319574.0</td>\n",
       "      <td>578.0</td>\n",
       "      <td>83.274201</td>\n",
       "      <td>83.989488</td>\n",
       "      <td>93.867718</td>\n",
       "      <td>96.539641</td>\n",
       "      <td>95.203679</td>\n",
       "    </tr>\n",
       "    <tr>\n",
       "      <th>14</th>\n",
       "      <td>Wright High School</td>\n",
       "      <td>Charter</td>\n",
       "      <td>1800</td>\n",
       "      <td>1049400.0</td>\n",
       "      <td>583.0</td>\n",
       "      <td>83.682222</td>\n",
       "      <td>83.955000</td>\n",
       "      <td>93.333333</td>\n",
       "      <td>96.611111</td>\n",
       "      <td>94.972222</td>\n",
       "    </tr>\n",
       "  </tbody>\n",
       "</table>\n",
       "</div>"
      ],
      "text/plain": [
       "             School Names School Type  Total Students  Total School Budget  \\\n",
       "0      Bailey High School    District            4976            3124928.0   \n",
       "1     Cabrera High School     Charter            1858            1081356.0   \n",
       "2    Figueroa High School    District            2949            1884411.0   \n",
       "3        Ford High School    District            2739            1763916.0   \n",
       "4     Griffin High School     Charter            1468             917500.0   \n",
       "5   Hernandez High School    District            4635            3022020.0   \n",
       "6      Holden High School     Charter             427             248087.0   \n",
       "7       Huang High School    District            2917            1910635.0   \n",
       "8     Johnson High School    District            4761            3094650.0   \n",
       "9        Pena High School     Charter             962             585858.0   \n",
       "10  Rodriguez High School    District            3999            2547363.0   \n",
       "11    Shelton High School     Charter            1761            1056600.0   \n",
       "12     Thomas High School     Charter            1635            1043130.0   \n",
       "13     Wilson High School     Charter            2283            1319574.0   \n",
       "14     Wright High School     Charter            1800            1049400.0   \n",
       "\n",
       "    Per Student Budget  Average Math Score  Average Reading Score  \\\n",
       "0                628.0           77.048432              81.033963   \n",
       "1                582.0           83.061895              83.975780   \n",
       "2                639.0           76.711767              81.158020   \n",
       "3                644.0           77.102592              80.746258   \n",
       "4                625.0           83.351499              83.816757   \n",
       "5                652.0           77.289752              80.934412   \n",
       "6                581.0           83.803279              83.814988   \n",
       "7                655.0           76.629414              81.182722   \n",
       "8                650.0           77.072464              80.966394   \n",
       "9                609.0           83.839917              84.044699   \n",
       "10               637.0           76.842711              80.744686   \n",
       "11               600.0           83.359455              83.725724   \n",
       "12               638.0           83.418349              83.848930   \n",
       "13               578.0           83.274201              83.989488   \n",
       "14               583.0           83.682222              83.955000   \n",
       "\n",
       "    % Passing Math  % Passing Reading  Overall Passing Rate  \n",
       "0        66.680064          81.933280             74.306672  \n",
       "1        94.133477          97.039828             95.586652  \n",
       "2        65.988471          80.739234             73.363852  \n",
       "3        68.309602          79.299014             73.804308  \n",
       "4        93.392371          97.138965             95.265668  \n",
       "5        66.752967          80.862999             73.807983  \n",
       "6        92.505855          96.252927             94.379391  \n",
       "7        65.683922          81.316421             73.500171  \n",
       "8        66.057551          81.222432             73.639992  \n",
       "9        94.594595          95.945946             95.270270  \n",
       "10       66.366592          80.220055             73.293323  \n",
       "11       93.867121          95.854628             94.860875  \n",
       "12       93.272171          97.308869             95.290520  \n",
       "13       93.867718          96.539641             95.203679  \n",
       "14       93.333333          96.611111             94.972222  "
      ]
     },
     "execution_count": 188,
     "metadata": {},
     "output_type": "execute_result"
    }
   ],
   "source": [
    "school_summary_df = pd.DataFrame({\"School Names\":school_names,\n",
    "                                  \"School Type\":school_types,\n",
    "                                  \"Total Students\":school_total_students,\n",
    "                                  \"Total School Budget\":school_budget,\n",
    "                                  \"Per Student Budget\":school_per_student_budget,\n",
    "                                  \"Average Math Score\":school_avg_math_score,\n",
    "                                  \"Average Reading Score\":school_avg_reading_score,\n",
    "                                  \"% Passing Math\":school_percentage_passing_math,\n",
    "                                  \"% Passing Reading\":school_percentage_passing_reading,\n",
    "                                  \"Overall Passing Rate\":school_overall_passing})\n",
    "\n",
    "school_summary_df = school_summary_df.reset_index(drop=True)\n",
    "school_summary_df"
   ]
  },
  {
   "cell_type": "code",
   "execution_count": null,
   "id": "e8658520",
   "metadata": {},
   "outputs": [],
   "source": []
  },
  {
   "cell_type": "code",
   "execution_count": 78,
   "id": "21df0f34",
   "metadata": {},
   "outputs": [],
   "source": [
    "# Top performing schools "
   ]
  },
  {
   "cell_type": "code",
   "execution_count": 79,
   "id": "21c31e6d",
   "metadata": {
    "scrolled": true
   },
   "outputs": [
    {
     "data": {
      "text/html": [
       "<div>\n",
       "<style scoped>\n",
       "    .dataframe tbody tr th:only-of-type {\n",
       "        vertical-align: middle;\n",
       "    }\n",
       "\n",
       "    .dataframe tbody tr th {\n",
       "        vertical-align: top;\n",
       "    }\n",
       "\n",
       "    .dataframe thead th {\n",
       "        text-align: right;\n",
       "    }\n",
       "</style>\n",
       "<table border=\"1\" class=\"dataframe\">\n",
       "  <thead>\n",
       "    <tr style=\"text-align: right;\">\n",
       "      <th></th>\n",
       "      <th>School Names</th>\n",
       "      <th>School Type</th>\n",
       "      <th>Total Students</th>\n",
       "      <th>Total School Budget</th>\n",
       "      <th>Per Student Budget</th>\n",
       "      <th>Average Math Score</th>\n",
       "      <th>Average Reading Score</th>\n",
       "      <th>% Passing Math</th>\n",
       "      <th>% Passing Reading</th>\n",
       "      <th>Overall Passing Rate</th>\n",
       "    </tr>\n",
       "  </thead>\n",
       "  <tbody>\n",
       "    <tr>\n",
       "      <th>0</th>\n",
       "      <td>Cabrera High School</td>\n",
       "      <td>Charter</td>\n",
       "      <td>1858</td>\n",
       "      <td>1081356.0</td>\n",
       "      <td>582.0</td>\n",
       "      <td>83.061895</td>\n",
       "      <td>83.975780</td>\n",
       "      <td>94.133477</td>\n",
       "      <td>97.039828</td>\n",
       "      <td>95.586652</td>\n",
       "    </tr>\n",
       "    <tr>\n",
       "      <th>1</th>\n",
       "      <td>Thomas High School</td>\n",
       "      <td>Charter</td>\n",
       "      <td>1635</td>\n",
       "      <td>1043130.0</td>\n",
       "      <td>638.0</td>\n",
       "      <td>83.418349</td>\n",
       "      <td>83.848930</td>\n",
       "      <td>93.272171</td>\n",
       "      <td>97.308869</td>\n",
       "      <td>95.290520</td>\n",
       "    </tr>\n",
       "    <tr>\n",
       "      <th>2</th>\n",
       "      <td>Pena High School</td>\n",
       "      <td>Charter</td>\n",
       "      <td>962</td>\n",
       "      <td>585858.0</td>\n",
       "      <td>609.0</td>\n",
       "      <td>83.839917</td>\n",
       "      <td>84.044699</td>\n",
       "      <td>94.594595</td>\n",
       "      <td>95.945946</td>\n",
       "      <td>95.270270</td>\n",
       "    </tr>\n",
       "    <tr>\n",
       "      <th>3</th>\n",
       "      <td>Griffin High School</td>\n",
       "      <td>Charter</td>\n",
       "      <td>1468</td>\n",
       "      <td>917500.0</td>\n",
       "      <td>625.0</td>\n",
       "      <td>83.351499</td>\n",
       "      <td>83.816757</td>\n",
       "      <td>93.392371</td>\n",
       "      <td>97.138965</td>\n",
       "      <td>95.265668</td>\n",
       "    </tr>\n",
       "    <tr>\n",
       "      <th>4</th>\n",
       "      <td>Wilson High School</td>\n",
       "      <td>Charter</td>\n",
       "      <td>2283</td>\n",
       "      <td>1319574.0</td>\n",
       "      <td>578.0</td>\n",
       "      <td>83.274201</td>\n",
       "      <td>83.989488</td>\n",
       "      <td>93.867718</td>\n",
       "      <td>96.539641</td>\n",
       "      <td>95.203679</td>\n",
       "    </tr>\n",
       "  </tbody>\n",
       "</table>\n",
       "</div>"
      ],
      "text/plain": [
       "          School Names School Type  Total Students  Total School Budget  \\\n",
       "0  Cabrera High School     Charter            1858            1081356.0   \n",
       "1   Thomas High School     Charter            1635            1043130.0   \n",
       "2     Pena High School     Charter             962             585858.0   \n",
       "3  Griffin High School     Charter            1468             917500.0   \n",
       "4   Wilson High School     Charter            2283            1319574.0   \n",
       "\n",
       "   Per Student Budget  Average Math Score  Average Reading Score  \\\n",
       "0               582.0           83.061895              83.975780   \n",
       "1               638.0           83.418349              83.848930   \n",
       "2               609.0           83.839917              84.044699   \n",
       "3               625.0           83.351499              83.816757   \n",
       "4               578.0           83.274201              83.989488   \n",
       "\n",
       "   % Passing Math  % Passing Reading  Overall Passing Rate  \n",
       "0       94.133477          97.039828             95.586652  \n",
       "1       93.272171          97.308869             95.290520  \n",
       "2       94.594595          95.945946             95.270270  \n",
       "3       93.392371          97.138965             95.265668  \n",
       "4       93.867718          96.539641             95.203679  "
      ]
     },
     "execution_count": 79,
     "metadata": {},
     "output_type": "execute_result"
    }
   ],
   "source": [
    "top_5 = school_summary_df.sort_values(by='Overall Passing Rate', ascending=False).head(5).reset_index(drop=True)\n",
    "top_5"
   ]
  },
  {
   "cell_type": "code",
   "execution_count": 80,
   "id": "685aca76",
   "metadata": {},
   "outputs": [],
   "source": [
    "# Bottom performing schools"
   ]
  },
  {
   "cell_type": "code",
   "execution_count": 81,
   "id": "b5a1b590",
   "metadata": {},
   "outputs": [
    {
     "data": {
      "text/html": [
       "<div>\n",
       "<style scoped>\n",
       "    .dataframe tbody tr th:only-of-type {\n",
       "        vertical-align: middle;\n",
       "    }\n",
       "\n",
       "    .dataframe tbody tr th {\n",
       "        vertical-align: top;\n",
       "    }\n",
       "\n",
       "    .dataframe thead th {\n",
       "        text-align: right;\n",
       "    }\n",
       "</style>\n",
       "<table border=\"1\" class=\"dataframe\">\n",
       "  <thead>\n",
       "    <tr style=\"text-align: right;\">\n",
       "      <th></th>\n",
       "      <th>School Names</th>\n",
       "      <th>School Type</th>\n",
       "      <th>Total Students</th>\n",
       "      <th>Total School Budget</th>\n",
       "      <th>Per Student Budget</th>\n",
       "      <th>Average Math Score</th>\n",
       "      <th>Average Reading Score</th>\n",
       "      <th>% Passing Math</th>\n",
       "      <th>% Passing Reading</th>\n",
       "      <th>Overall Passing Rate</th>\n",
       "    </tr>\n",
       "  </thead>\n",
       "  <tbody>\n",
       "    <tr>\n",
       "      <th>0</th>\n",
       "      <td>Rodriguez High School</td>\n",
       "      <td>District</td>\n",
       "      <td>3999</td>\n",
       "      <td>2547363.0</td>\n",
       "      <td>637.0</td>\n",
       "      <td>76.842711</td>\n",
       "      <td>80.744686</td>\n",
       "      <td>66.366592</td>\n",
       "      <td>80.220055</td>\n",
       "      <td>73.293323</td>\n",
       "    </tr>\n",
       "    <tr>\n",
       "      <th>1</th>\n",
       "      <td>Figueroa High School</td>\n",
       "      <td>District</td>\n",
       "      <td>2949</td>\n",
       "      <td>1884411.0</td>\n",
       "      <td>639.0</td>\n",
       "      <td>76.711767</td>\n",
       "      <td>81.158020</td>\n",
       "      <td>65.988471</td>\n",
       "      <td>80.739234</td>\n",
       "      <td>73.363852</td>\n",
       "    </tr>\n",
       "    <tr>\n",
       "      <th>2</th>\n",
       "      <td>Huang High School</td>\n",
       "      <td>District</td>\n",
       "      <td>2917</td>\n",
       "      <td>1910635.0</td>\n",
       "      <td>655.0</td>\n",
       "      <td>76.629414</td>\n",
       "      <td>81.182722</td>\n",
       "      <td>65.683922</td>\n",
       "      <td>81.316421</td>\n",
       "      <td>73.500171</td>\n",
       "    </tr>\n",
       "    <tr>\n",
       "      <th>3</th>\n",
       "      <td>Johnson High School</td>\n",
       "      <td>District</td>\n",
       "      <td>4761</td>\n",
       "      <td>3094650.0</td>\n",
       "      <td>650.0</td>\n",
       "      <td>77.072464</td>\n",
       "      <td>80.966394</td>\n",
       "      <td>66.057551</td>\n",
       "      <td>81.222432</td>\n",
       "      <td>73.639992</td>\n",
       "    </tr>\n",
       "    <tr>\n",
       "      <th>4</th>\n",
       "      <td>Ford High School</td>\n",
       "      <td>District</td>\n",
       "      <td>2739</td>\n",
       "      <td>1763916.0</td>\n",
       "      <td>644.0</td>\n",
       "      <td>77.102592</td>\n",
       "      <td>80.746258</td>\n",
       "      <td>68.309602</td>\n",
       "      <td>79.299014</td>\n",
       "      <td>73.804308</td>\n",
       "    </tr>\n",
       "  </tbody>\n",
       "</table>\n",
       "</div>"
      ],
      "text/plain": [
       "            School Names School Type  Total Students  Total School Budget  \\\n",
       "0  Rodriguez High School    District            3999            2547363.0   \n",
       "1   Figueroa High School    District            2949            1884411.0   \n",
       "2      Huang High School    District            2917            1910635.0   \n",
       "3    Johnson High School    District            4761            3094650.0   \n",
       "4       Ford High School    District            2739            1763916.0   \n",
       "\n",
       "   Per Student Budget  Average Math Score  Average Reading Score  \\\n",
       "0               637.0           76.842711              80.744686   \n",
       "1               639.0           76.711767              81.158020   \n",
       "2               655.0           76.629414              81.182722   \n",
       "3               650.0           77.072464              80.966394   \n",
       "4               644.0           77.102592              80.746258   \n",
       "\n",
       "   % Passing Math  % Passing Reading  Overall Passing Rate  \n",
       "0       66.366592          80.220055             73.293323  \n",
       "1       65.988471          80.739234             73.363852  \n",
       "2       65.683922          81.316421             73.500171  \n",
       "3       66.057551          81.222432             73.639992  \n",
       "4       68.309602          79.299014             73.804308  "
      ]
     },
     "execution_count": 81,
     "metadata": {},
     "output_type": "execute_result"
    }
   ],
   "source": [
    "bot_5 = school_summary_df.sort_values(by='Overall Passing Rate', ascending=True).head(5).reset_index(drop=True)\n",
    "bot_5"
   ]
  },
  {
   "cell_type": "code",
   "execution_count": 82,
   "id": "d3fe854a",
   "metadata": {},
   "outputs": [],
   "source": [
    "# Math scores by grades"
   ]
  },
  {
   "cell_type": "code",
   "execution_count": 101,
   "id": "96e78c6b",
   "metadata": {},
   "outputs": [],
   "source": [
    "# Function to create series for average math score by grade\n",
    "def average_math_by_grade(grade):\n",
    "    school_summary = school_data_complete.loc[school_data_complete.grade == grade].groupby(['school_name'])\n",
    "    school_names = school_data_complete.school_name.sort_values().unique()\n",
    "    school_avg_math_score = list(school_summary.math_score.mean())\n",
    "\n",
    "    # Compile all calculations into dataframe\n",
    "    average_math_df = pd.DataFrame({\"School Names\":school_names,\n",
    "                                    f\"{grade} Avg Math Score\":school_avg_math_score})\n",
    "\n",
    "    average_math_df = average_math_df.reset_index(drop=True)\n",
    "    return average_math_df\n"
   ]
  },
  {
   "cell_type": "code",
   "execution_count": null,
   "id": "ab100d13",
   "metadata": {},
   "outputs": [],
   "source": [
    "# Function to create series for average reading score by grade"
   ]
  },
  {
   "cell_type": "code",
   "execution_count": 102,
   "id": "989f8cfd",
   "metadata": {},
   "outputs": [],
   "source": [
    "def average_reading_by_grade(grade):\n",
    "    school_summary = school_data_complete.loc[school_data_complete.grade == grade].groupby(['school_name'])\n",
    "    school_names = school_data_complete.school_name.sort_values().unique()\n",
    "    school_avg_reading_score = list(school_summary.reading_score.mean())\n",
    "\n",
    "    # Compile all calculations into dataframe\n",
    "    average_reading_df = pd.DataFrame({\"School Names\":school_names,\n",
    "                                    f\"{grade} Avg Reading Score\":school_avg_reading_score})\n",
    "\n",
    "    average_reading_df = average_reading_df.reset_index(drop=True)\n",
    "    return average_reading_df"
   ]
  },
  {
   "cell_type": "code",
   "execution_count": null,
   "id": "e4fadbf2",
   "metadata": {},
   "outputs": [],
   "source": [
    "# Create series for each grade and group by school"
   ]
  },
  {
   "cell_type": "code",
   "execution_count": 106,
   "id": "c9e6d127",
   "metadata": {},
   "outputs": [
    {
     "data": {
      "text/html": [
       "<div>\n",
       "<style scoped>\n",
       "    .dataframe tbody tr th:only-of-type {\n",
       "        vertical-align: middle;\n",
       "    }\n",
       "\n",
       "    .dataframe tbody tr th {\n",
       "        vertical-align: top;\n",
       "    }\n",
       "\n",
       "    .dataframe thead th {\n",
       "        text-align: right;\n",
       "    }\n",
       "</style>\n",
       "<table border=\"1\" class=\"dataframe\">\n",
       "  <thead>\n",
       "    <tr style=\"text-align: right;\">\n",
       "      <th></th>\n",
       "      <th>School Names</th>\n",
       "      <th>9th Avg Math Score</th>\n",
       "      <th>10th Avg Math Score</th>\n",
       "      <th>11th Avg Math Score</th>\n",
       "      <th>12th Avg Math Score</th>\n",
       "    </tr>\n",
       "  </thead>\n",
       "  <tbody>\n",
       "    <tr>\n",
       "      <th>0</th>\n",
       "      <td>Bailey High School</td>\n",
       "      <td>77.083676</td>\n",
       "      <td>76.996772</td>\n",
       "      <td>77.515588</td>\n",
       "      <td>76.492218</td>\n",
       "    </tr>\n",
       "    <tr>\n",
       "      <th>1</th>\n",
       "      <td>Cabrera High School</td>\n",
       "      <td>83.094697</td>\n",
       "      <td>83.154506</td>\n",
       "      <td>82.765560</td>\n",
       "      <td>83.277487</td>\n",
       "    </tr>\n",
       "    <tr>\n",
       "      <th>2</th>\n",
       "      <td>Figueroa High School</td>\n",
       "      <td>76.403037</td>\n",
       "      <td>76.539974</td>\n",
       "      <td>76.884344</td>\n",
       "      <td>77.151369</td>\n",
       "    </tr>\n",
       "    <tr>\n",
       "      <th>3</th>\n",
       "      <td>Ford High School</td>\n",
       "      <td>77.361345</td>\n",
       "      <td>77.672316</td>\n",
       "      <td>76.918058</td>\n",
       "      <td>76.179963</td>\n",
       "    </tr>\n",
       "    <tr>\n",
       "      <th>4</th>\n",
       "      <td>Griffin High School</td>\n",
       "      <td>82.044010</td>\n",
       "      <td>84.229064</td>\n",
       "      <td>83.842105</td>\n",
       "      <td>83.356164</td>\n",
       "    </tr>\n",
       "    <tr>\n",
       "      <th>5</th>\n",
       "      <td>Hernandez High School</td>\n",
       "      <td>77.438495</td>\n",
       "      <td>77.337408</td>\n",
       "      <td>77.136029</td>\n",
       "      <td>77.186567</td>\n",
       "    </tr>\n",
       "    <tr>\n",
       "      <th>6</th>\n",
       "      <td>Holden High School</td>\n",
       "      <td>83.787402</td>\n",
       "      <td>83.429825</td>\n",
       "      <td>85.000000</td>\n",
       "      <td>82.855422</td>\n",
       "    </tr>\n",
       "    <tr>\n",
       "      <th>7</th>\n",
       "      <td>Huang High School</td>\n",
       "      <td>77.027251</td>\n",
       "      <td>75.908735</td>\n",
       "      <td>76.446602</td>\n",
       "      <td>77.225641</td>\n",
       "    </tr>\n",
       "    <tr>\n",
       "      <th>8</th>\n",
       "      <td>Johnson High School</td>\n",
       "      <td>77.187857</td>\n",
       "      <td>76.691117</td>\n",
       "      <td>77.491653</td>\n",
       "      <td>76.863248</td>\n",
       "    </tr>\n",
       "    <tr>\n",
       "      <th>9</th>\n",
       "      <td>Pena High School</td>\n",
       "      <td>83.625455</td>\n",
       "      <td>83.372000</td>\n",
       "      <td>84.328125</td>\n",
       "      <td>84.121547</td>\n",
       "    </tr>\n",
       "    <tr>\n",
       "      <th>10</th>\n",
       "      <td>Rodriguez High School</td>\n",
       "      <td>76.859966</td>\n",
       "      <td>76.612500</td>\n",
       "      <td>76.395626</td>\n",
       "      <td>77.690748</td>\n",
       "    </tr>\n",
       "    <tr>\n",
       "      <th>11</th>\n",
       "      <td>Shelton High School</td>\n",
       "      <td>83.420755</td>\n",
       "      <td>82.917411</td>\n",
       "      <td>83.383495</td>\n",
       "      <td>83.778976</td>\n",
       "    </tr>\n",
       "    <tr>\n",
       "      <th>12</th>\n",
       "      <td>Thomas High School</td>\n",
       "      <td>83.590022</td>\n",
       "      <td>83.087886</td>\n",
       "      <td>83.498795</td>\n",
       "      <td>83.497041</td>\n",
       "    </tr>\n",
       "    <tr>\n",
       "      <th>13</th>\n",
       "      <td>Wilson High School</td>\n",
       "      <td>83.085578</td>\n",
       "      <td>83.724422</td>\n",
       "      <td>83.195326</td>\n",
       "      <td>83.035794</td>\n",
       "    </tr>\n",
       "    <tr>\n",
       "      <th>14</th>\n",
       "      <td>Wright High School</td>\n",
       "      <td>83.264706</td>\n",
       "      <td>84.010288</td>\n",
       "      <td>83.836782</td>\n",
       "      <td>83.644986</td>\n",
       "    </tr>\n",
       "  </tbody>\n",
       "</table>\n",
       "</div>"
      ],
      "text/plain": [
       "             School Names  9th Avg Math Score  10th Avg Math Score  \\\n",
       "0      Bailey High School           77.083676            76.996772   \n",
       "1     Cabrera High School           83.094697            83.154506   \n",
       "2    Figueroa High School           76.403037            76.539974   \n",
       "3        Ford High School           77.361345            77.672316   \n",
       "4     Griffin High School           82.044010            84.229064   \n",
       "5   Hernandez High School           77.438495            77.337408   \n",
       "6      Holden High School           83.787402            83.429825   \n",
       "7       Huang High School           77.027251            75.908735   \n",
       "8     Johnson High School           77.187857            76.691117   \n",
       "9        Pena High School           83.625455            83.372000   \n",
       "10  Rodriguez High School           76.859966            76.612500   \n",
       "11    Shelton High School           83.420755            82.917411   \n",
       "12     Thomas High School           83.590022            83.087886   \n",
       "13     Wilson High School           83.085578            83.724422   \n",
       "14     Wright High School           83.264706            84.010288   \n",
       "\n",
       "    11th Avg Math Score  12th Avg Math Score  \n",
       "0             77.515588            76.492218  \n",
       "1             82.765560            83.277487  \n",
       "2             76.884344            77.151369  \n",
       "3             76.918058            76.179963  \n",
       "4             83.842105            83.356164  \n",
       "5             77.136029            77.186567  \n",
       "6             85.000000            82.855422  \n",
       "7             76.446602            77.225641  \n",
       "8             77.491653            76.863248  \n",
       "9             84.328125            84.121547  \n",
       "10            76.395626            77.690748  \n",
       "11            83.383495            83.778976  \n",
       "12            83.498795            83.497041  \n",
       "13            83.195326            83.035794  \n",
       "14            83.836782            83.644986  "
      ]
     },
     "execution_count": 106,
     "metadata": {},
     "output_type": "execute_result"
    }
   ],
   "source": [
    "grade_9 = average_math_by_grade('9th')\n",
    "grade_10 = average_math_by_grade('10th')\n",
    "grade_11 = average_math_by_grade('11th')\n",
    "grade_12 = average_math_by_grade('12th')\n",
    "avg_math_score_by_grade = pd.merge(grade_9,grade_10,how='inner',suffixes=('',''))\n",
    "avg_math_score_by_grade = pd.merge(avg_math_score_by_grade,grade_11,how='inner',suffixes=('',''))\n",
    "avg_math_score_by_grade = pd.merge(avg_math_score_by_grade,grade_12,how='inner',suffixes=('',''))\n",
    "avg_math_score_by_grade"
   ]
  },
  {
   "cell_type": "code",
   "execution_count": 86,
   "id": "a826fc05",
   "metadata": {},
   "outputs": [],
   "source": [
    "# Create series for each grade and group by school"
   ]
  },
  {
   "cell_type": "code",
   "execution_count": 105,
   "id": "70018258",
   "metadata": {},
   "outputs": [
    {
     "data": {
      "text/html": [
       "<div>\n",
       "<style scoped>\n",
       "    .dataframe tbody tr th:only-of-type {\n",
       "        vertical-align: middle;\n",
       "    }\n",
       "\n",
       "    .dataframe tbody tr th {\n",
       "        vertical-align: top;\n",
       "    }\n",
       "\n",
       "    .dataframe thead th {\n",
       "        text-align: right;\n",
       "    }\n",
       "</style>\n",
       "<table border=\"1\" class=\"dataframe\">\n",
       "  <thead>\n",
       "    <tr style=\"text-align: right;\">\n",
       "      <th></th>\n",
       "      <th>School Names</th>\n",
       "      <th>9th Avg Reading Score</th>\n",
       "      <th>10th Avg Reading Score</th>\n",
       "      <th>11th Avg Reading Score</th>\n",
       "      <th>12th Avg Reading Score</th>\n",
       "    </tr>\n",
       "  </thead>\n",
       "  <tbody>\n",
       "    <tr>\n",
       "      <th>0</th>\n",
       "      <td>Bailey High School</td>\n",
       "      <td>81.303155</td>\n",
       "      <td>80.907183</td>\n",
       "      <td>80.945643</td>\n",
       "      <td>80.912451</td>\n",
       "    </tr>\n",
       "    <tr>\n",
       "      <th>1</th>\n",
       "      <td>Cabrera High School</td>\n",
       "      <td>83.676136</td>\n",
       "      <td>84.253219</td>\n",
       "      <td>83.788382</td>\n",
       "      <td>84.287958</td>\n",
       "    </tr>\n",
       "    <tr>\n",
       "      <th>2</th>\n",
       "      <td>Figueroa High School</td>\n",
       "      <td>81.198598</td>\n",
       "      <td>81.408912</td>\n",
       "      <td>80.640339</td>\n",
       "      <td>81.384863</td>\n",
       "    </tr>\n",
       "    <tr>\n",
       "      <th>3</th>\n",
       "      <td>Ford High School</td>\n",
       "      <td>80.632653</td>\n",
       "      <td>81.262712</td>\n",
       "      <td>80.403642</td>\n",
       "      <td>80.662338</td>\n",
       "    </tr>\n",
       "    <tr>\n",
       "      <th>4</th>\n",
       "      <td>Griffin High School</td>\n",
       "      <td>83.369193</td>\n",
       "      <td>83.706897</td>\n",
       "      <td>84.288089</td>\n",
       "      <td>84.013699</td>\n",
       "    </tr>\n",
       "    <tr>\n",
       "      <th>5</th>\n",
       "      <td>Hernandez High School</td>\n",
       "      <td>80.866860</td>\n",
       "      <td>80.660147</td>\n",
       "      <td>81.396140</td>\n",
       "      <td>80.857143</td>\n",
       "    </tr>\n",
       "    <tr>\n",
       "      <th>6</th>\n",
       "      <td>Holden High School</td>\n",
       "      <td>83.677165</td>\n",
       "      <td>83.324561</td>\n",
       "      <td>83.815534</td>\n",
       "      <td>84.698795</td>\n",
       "    </tr>\n",
       "    <tr>\n",
       "      <th>7</th>\n",
       "      <td>Huang High School</td>\n",
       "      <td>81.290284</td>\n",
       "      <td>81.512386</td>\n",
       "      <td>81.417476</td>\n",
       "      <td>80.305983</td>\n",
       "    </tr>\n",
       "    <tr>\n",
       "      <th>8</th>\n",
       "      <td>Johnson High School</td>\n",
       "      <td>81.260714</td>\n",
       "      <td>80.773431</td>\n",
       "      <td>80.616027</td>\n",
       "      <td>81.227564</td>\n",
       "    </tr>\n",
       "    <tr>\n",
       "      <th>9</th>\n",
       "      <td>Pena High School</td>\n",
       "      <td>83.807273</td>\n",
       "      <td>83.612000</td>\n",
       "      <td>84.335938</td>\n",
       "      <td>84.591160</td>\n",
       "    </tr>\n",
       "    <tr>\n",
       "      <th>10</th>\n",
       "      <td>Rodriguez High School</td>\n",
       "      <td>80.993127</td>\n",
       "      <td>80.629808</td>\n",
       "      <td>80.864811</td>\n",
       "      <td>80.376426</td>\n",
       "    </tr>\n",
       "    <tr>\n",
       "      <th>11</th>\n",
       "      <td>Shelton High School</td>\n",
       "      <td>84.122642</td>\n",
       "      <td>83.441964</td>\n",
       "      <td>84.373786</td>\n",
       "      <td>82.781671</td>\n",
       "    </tr>\n",
       "    <tr>\n",
       "      <th>12</th>\n",
       "      <td>Thomas High School</td>\n",
       "      <td>83.728850</td>\n",
       "      <td>84.254157</td>\n",
       "      <td>83.585542</td>\n",
       "      <td>83.831361</td>\n",
       "    </tr>\n",
       "    <tr>\n",
       "      <th>13</th>\n",
       "      <td>Wilson High School</td>\n",
       "      <td>83.939778</td>\n",
       "      <td>84.021452</td>\n",
       "      <td>83.764608</td>\n",
       "      <td>84.317673</td>\n",
       "    </tr>\n",
       "    <tr>\n",
       "      <th>14</th>\n",
       "      <td>Wright High School</td>\n",
       "      <td>83.833333</td>\n",
       "      <td>83.812757</td>\n",
       "      <td>84.156322</td>\n",
       "      <td>84.073171</td>\n",
       "    </tr>\n",
       "  </tbody>\n",
       "</table>\n",
       "</div>"
      ],
      "text/plain": [
       "             School Names  9th Avg Reading Score  10th Avg Reading Score  \\\n",
       "0      Bailey High School              81.303155               80.907183   \n",
       "1     Cabrera High School              83.676136               84.253219   \n",
       "2    Figueroa High School              81.198598               81.408912   \n",
       "3        Ford High School              80.632653               81.262712   \n",
       "4     Griffin High School              83.369193               83.706897   \n",
       "5   Hernandez High School              80.866860               80.660147   \n",
       "6      Holden High School              83.677165               83.324561   \n",
       "7       Huang High School              81.290284               81.512386   \n",
       "8     Johnson High School              81.260714               80.773431   \n",
       "9        Pena High School              83.807273               83.612000   \n",
       "10  Rodriguez High School              80.993127               80.629808   \n",
       "11    Shelton High School              84.122642               83.441964   \n",
       "12     Thomas High School              83.728850               84.254157   \n",
       "13     Wilson High School              83.939778               84.021452   \n",
       "14     Wright High School              83.833333               83.812757   \n",
       "\n",
       "    11th Avg Reading Score  12th Avg Reading Score  \n",
       "0                80.945643               80.912451  \n",
       "1                83.788382               84.287958  \n",
       "2                80.640339               81.384863  \n",
       "3                80.403642               80.662338  \n",
       "4                84.288089               84.013699  \n",
       "5                81.396140               80.857143  \n",
       "6                83.815534               84.698795  \n",
       "7                81.417476               80.305983  \n",
       "8                80.616027               81.227564  \n",
       "9                84.335938               84.591160  \n",
       "10               80.864811               80.376426  \n",
       "11               84.373786               82.781671  \n",
       "12               83.585542               83.831361  \n",
       "13               83.764608               84.317673  \n",
       "14               84.156322               84.073171  "
      ]
     },
     "execution_count": 105,
     "metadata": {},
     "output_type": "execute_result"
    }
   ],
   "source": [
    "grade_9 = average_reading_by_grade('9th')\n",
    "grade_10 = average_reading_by_grade('10th')\n",
    "grade_11 = average_reading_by_grade('11th')\n",
    "grade_12 = average_reading_by_grade('12th')\n",
    "avg_reading_score_by_grade = pd.merge(grade_9,grade_10,how='inner',suffixes=('',''))\n",
    "avg_reading_score_by_grade = pd.merge(avg_reading_score_by_grade,grade_11,how='inner',suffixes=('',''))\n",
    "avg_reading_score_by_grade = pd.merge(avg_reading_score_by_grade,grade_12,how='inner',suffixes=('',''))\n",
    "avg_reading_score_by_grade"
   ]
  },
  {
   "cell_type": "code",
   "execution_count": 88,
   "id": "1bed480c",
   "metadata": {},
   "outputs": [],
   "source": [
    "\n"
   ]
  },
  {
   "cell_type": "code",
   "execution_count": 107,
   "id": "00a3279a",
   "metadata": {},
   "outputs": [],
   "source": [
    "#school spending"
   ]
  },
  {
   "cell_type": "code",
   "execution_count": 156,
   "id": "8ec5cc73",
   "metadata": {},
   "outputs": [],
   "source": [
    "# Creating the spending bins\n",
    "spending_bins = [0, 585, 630, 645, 680]\n",
    "labels = [\"<$585\", \"$585-630\", \"$630-645\", \"$645-680\"]\n",
    "school_summary_df[\"Spending Ranges (Per Student)\"] = pd.cut(school_summary_df[\"Per Student Budget\"], spending_bins, labels=labels)\n"
   ]
  },
  {
   "cell_type": "code",
   "execution_count": null,
   "id": "bd1fab13",
   "metadata": {},
   "outputs": [],
   "source": [
    "# Group by spending and calculate averages"
   ]
  },
  {
   "cell_type": "code",
   "execution_count": 158,
   "id": "8789a00d",
   "metadata": {},
   "outputs": [],
   "source": [
    "spending_math_scores = school_summary_df.groupby([\"Spending Ranges (Per Student)\"])[\"Average Math Score\"].mean()\n",
    "spending_reading_scores = school_summary_df.groupby([\"Spending Ranges (Per Student)\"])[\"Average Reading Score\"].mean()\n",
    "spending_passing_math = school_summary_df.groupby([\"Spending Ranges (Per Student)\"])[\"% Passing Math\"].mean()\n",
    "spending_passing_reading = school_summary_df.groupby([\"Spending Ranges (Per Student)\"])[\"% Passing Reading\"].mean()\n"
   ]
  },
  {
   "cell_type": "code",
   "execution_count": 147,
   "id": "44953b05",
   "metadata": {},
   "outputs": [],
   "source": [
    "#spending summary dataframe"
   ]
  },
  {
   "cell_type": "code",
   "execution_count": 184,
   "id": "b2794b2a",
   "metadata": {},
   "outputs": [
    {
     "data": {
      "text/html": [
       "<div>\n",
       "<style scoped>\n",
       "    .dataframe tbody tr th:only-of-type {\n",
       "        vertical-align: middle;\n",
       "    }\n",
       "\n",
       "    .dataframe tbody tr th {\n",
       "        vertical-align: top;\n",
       "    }\n",
       "\n",
       "    .dataframe thead th {\n",
       "        text-align: right;\n",
       "    }\n",
       "</style>\n",
       "<table border=\"1\" class=\"dataframe\">\n",
       "  <thead>\n",
       "    <tr style=\"text-align: right;\">\n",
       "      <th></th>\n",
       "      <th>Average Math Score</th>\n",
       "      <th>Average Reading Score</th>\n",
       "      <th>% Passing Math</th>\n",
       "      <th>% Passing Reading</th>\n",
       "    </tr>\n",
       "    <tr>\n",
       "      <th>Spending Ranges (Per Student)</th>\n",
       "      <th></th>\n",
       "      <th></th>\n",
       "      <th></th>\n",
       "      <th></th>\n",
       "    </tr>\n",
       "  </thead>\n",
       "  <tbody>\n",
       "    <tr>\n",
       "      <th>&lt;$585</th>\n",
       "      <td>83.455399</td>\n",
       "      <td>83.933814</td>\n",
       "      <td>93.460096</td>\n",
       "      <td>96.610877</td>\n",
       "    </tr>\n",
       "    <tr>\n",
       "      <th>$585-630</th>\n",
       "      <td>81.899826</td>\n",
       "      <td>83.155286</td>\n",
       "      <td>87.133538</td>\n",
       "      <td>92.718205</td>\n",
       "    </tr>\n",
       "    <tr>\n",
       "      <th>$630-645</th>\n",
       "      <td>78.518855</td>\n",
       "      <td>81.624473</td>\n",
       "      <td>73.484209</td>\n",
       "      <td>84.391793</td>\n",
       "    </tr>\n",
       "    <tr>\n",
       "      <th>$645-680</th>\n",
       "      <td>76.997210</td>\n",
       "      <td>81.027843</td>\n",
       "      <td>66.164813</td>\n",
       "      <td>81.133951</td>\n",
       "    </tr>\n",
       "  </tbody>\n",
       "</table>\n",
       "</div>"
      ],
      "text/plain": [
       "                               Average Math Score  Average Reading Score  \\\n",
       "Spending Ranges (Per Student)                                              \n",
       "<$585                                   83.455399              83.933814   \n",
       "$585-630                                81.899826              83.155286   \n",
       "$630-645                                78.518855              81.624473   \n",
       "$645-680                                76.997210              81.027843   \n",
       "\n",
       "                               % Passing Math  % Passing Reading  \n",
       "Spending Ranges (Per Student)                                     \n",
       "<$585                               93.460096          96.610877  \n",
       "$585-630                            87.133538          92.718205  \n",
       "$630-645                            73.484209          84.391793  \n",
       "$645-680                            66.164813          81.133951  "
      ]
     },
     "execution_count": 184,
     "metadata": {},
     "output_type": "execute_result"
    }
   ],
   "source": [
    "spending_summary = pd.DataFrame({\n",
    "    \"Average Math Score\": spending_math_scores,\n",
    "    \"Average Reading Score\": spending_reading_scores,\n",
    "    \"% Passing Math\": spending_passing_math,\n",
    "    \"% Passing Reading\": spending_passing_reading})\n",
    "\n",
    "spending_summary\n",
    "\n"
   ]
  },
  {
   "cell_type": "code",
   "execution_count": null,
   "id": "87f6be89",
   "metadata": {},
   "outputs": [],
   "source": [
    "# bins by school size"
   ]
  },
  {
   "cell_type": "code",
   "execution_count": 159,
   "id": "09156391",
   "metadata": {},
   "outputs": [],
   "source": [
    "size_bins = [0, 1000, 2000, 5000]\n",
    "labels = [\"Small (<1000)\", \"Medium (1000-2000)\", \"Large (2000-5000)\"]"
   ]
  },
  {
   "cell_type": "code",
   "execution_count": 161,
   "id": "92110154",
   "metadata": {},
   "outputs": [],
   "source": [
    "# Create a new column in the summary_df to categorize school size"
   ]
  },
  {
   "cell_type": "code",
   "execution_count": 163,
   "id": "cc5f6e2c",
   "metadata": {},
   "outputs": [],
   "source": [
    "school_summary_df[\"School Size\"] = pd.cut(school_summary_df[\"Total Students\"], size_bins, labels=labels)\n"
   ]
  },
  {
   "cell_type": "code",
   "execution_count": null,
   "id": "715a83dc",
   "metadata": {},
   "outputs": [],
   "source": [
    "# Group by size and calculate averages"
   ]
  },
  {
   "cell_type": "code",
   "execution_count": 165,
   "id": "755b7cfe",
   "metadata": {},
   "outputs": [],
   "source": [
    "size_math_scores = school_summary_df.groupby([\"School Size\"])[\"Average Math Score\"].mean()\n",
    "size_reading_scores = school_summary_df.groupby([\"School Size\"])[\"Average Reading Score\"].mean()\n",
    "size_passing_math = school_summary_df.groupby([\"School Size\"])[\"% Passing Math\"].mean()\n",
    "size_passing_reading = school_summary_df.groupby([\"School Size\"])[\"% Passing Reading\"].mean()"
   ]
  },
  {
   "cell_type": "code",
   "execution_count": 166,
   "id": "c200d2f4",
   "metadata": {},
   "outputs": [],
   "source": [
    "# Creating the size_summary DataFrame"
   ]
  },
  {
   "cell_type": "code",
   "execution_count": 185,
   "id": "6a4239df",
   "metadata": {},
   "outputs": [
    {
     "data": {
      "text/html": [
       "<div>\n",
       "<style scoped>\n",
       "    .dataframe tbody tr th:only-of-type {\n",
       "        vertical-align: middle;\n",
       "    }\n",
       "\n",
       "    .dataframe tbody tr th {\n",
       "        vertical-align: top;\n",
       "    }\n",
       "\n",
       "    .dataframe thead th {\n",
       "        text-align: right;\n",
       "    }\n",
       "</style>\n",
       "<table border=\"1\" class=\"dataframe\">\n",
       "  <thead>\n",
       "    <tr style=\"text-align: right;\">\n",
       "      <th></th>\n",
       "      <th>Average Math Score</th>\n",
       "      <th>Average Reading Score</th>\n",
       "      <th>% Passing Math</th>\n",
       "      <th>% Passing Reading</th>\n",
       "    </tr>\n",
       "    <tr>\n",
       "      <th>School Size</th>\n",
       "      <th></th>\n",
       "      <th></th>\n",
       "      <th></th>\n",
       "      <th></th>\n",
       "    </tr>\n",
       "  </thead>\n",
       "  <tbody>\n",
       "    <tr>\n",
       "      <th>Small (&lt;1000)</th>\n",
       "      <td>83.821598</td>\n",
       "      <td>83.929843</td>\n",
       "      <td>93.550225</td>\n",
       "      <td>96.099437</td>\n",
       "    </tr>\n",
       "    <tr>\n",
       "      <th>Medium (1000-2000)</th>\n",
       "      <td>83.374684</td>\n",
       "      <td>83.864438</td>\n",
       "      <td>93.599695</td>\n",
       "      <td>96.790680</td>\n",
       "    </tr>\n",
       "    <tr>\n",
       "      <th>Large (2000-5000)</th>\n",
       "      <td>77.746417</td>\n",
       "      <td>81.344493</td>\n",
       "      <td>69.963361</td>\n",
       "      <td>82.766634</td>\n",
       "    </tr>\n",
       "  </tbody>\n",
       "</table>\n",
       "</div>"
      ],
      "text/plain": [
       "                    Average Math Score  Average Reading Score  % Passing Math  \\\n",
       "School Size                                                                     \n",
       "Small (<1000)                83.821598              83.929843       93.550225   \n",
       "Medium (1000-2000)           83.374684              83.864438       93.599695   \n",
       "Large (2000-5000)            77.746417              81.344493       69.963361   \n",
       "\n",
       "                    % Passing Reading  \n",
       "School Size                            \n",
       "Small (<1000)               96.099437  \n",
       "Medium (1000-2000)          96.790680  \n",
       "Large (2000-5000)           82.766634  "
      ]
     },
     "execution_count": 185,
     "metadata": {},
     "output_type": "execute_result"
    }
   ],
   "source": [
    "size_summary = pd.DataFrame({\n",
    "    \"Average Math Score\": size_math_scores,\n",
    "    \"Average Reading Score\": size_reading_scores,\n",
    "    \"% Passing Math\": size_passing_math,\n",
    "    \"% Passing Reading\": size_passing_reading})\n",
    "size_summary "
   ]
  },
  {
   "cell_type": "code",
   "execution_count": 169,
   "id": "72ec46e4",
   "metadata": {},
   "outputs": [],
   "source": [
    "# Group by type of school and calculate averages"
   ]
  },
  {
   "cell_type": "code",
   "execution_count": 171,
   "id": "062b744f",
   "metadata": {},
   "outputs": [],
   "source": [
    "type_math_scores = school_summary_df.groupby([\"School Type\"])[\"Average Math Score\"].mean()\n",
    "type_reading_scores = school_summary_df.groupby([\"School Type\"])[\"Average Reading Score\"].mean()\n",
    "type_passing_math = school_summary_df.groupby([\"School Type\"])[\"% Passing Math\"].mean()\n",
    "type_passing_reading = school_summary_df.groupby([\"School Type\"])[\"% Passing Reading\"].mean()"
   ]
  },
  {
   "cell_type": "code",
   "execution_count": 172,
   "id": "85c2dfa5",
   "metadata": {},
   "outputs": [],
   "source": [
    "# Creating the type_summary DataFrame"
   ]
  },
  {
   "cell_type": "code",
   "execution_count": 186,
   "id": "ddac1dc1",
   "metadata": {},
   "outputs": [
    {
     "data": {
      "text/html": [
       "<div>\n",
       "<style scoped>\n",
       "    .dataframe tbody tr th:only-of-type {\n",
       "        vertical-align: middle;\n",
       "    }\n",
       "\n",
       "    .dataframe tbody tr th {\n",
       "        vertical-align: top;\n",
       "    }\n",
       "\n",
       "    .dataframe thead th {\n",
       "        text-align: right;\n",
       "    }\n",
       "</style>\n",
       "<table border=\"1\" class=\"dataframe\">\n",
       "  <thead>\n",
       "    <tr style=\"text-align: right;\">\n",
       "      <th></th>\n",
       "      <th>Average Math Score</th>\n",
       "      <th>Average Reading Score</th>\n",
       "      <th>% Passing Math</th>\n",
       "      <th>% Passing Reading</th>\n",
       "    </tr>\n",
       "    <tr>\n",
       "      <th>School Type</th>\n",
       "      <th></th>\n",
       "      <th></th>\n",
       "      <th></th>\n",
       "      <th></th>\n",
       "    </tr>\n",
       "  </thead>\n",
       "  <tbody>\n",
       "    <tr>\n",
       "      <th>Charter</th>\n",
       "      <td>83.473852</td>\n",
       "      <td>83.896421</td>\n",
       "      <td>93.620830</td>\n",
       "      <td>96.586489</td>\n",
       "    </tr>\n",
       "    <tr>\n",
       "      <th>District</th>\n",
       "      <td>76.956733</td>\n",
       "      <td>80.966636</td>\n",
       "      <td>66.548453</td>\n",
       "      <td>80.799062</td>\n",
       "    </tr>\n",
       "  </tbody>\n",
       "</table>\n",
       "</div>"
      ],
      "text/plain": [
       "             Average Math Score  Average Reading Score  % Passing Math  \\\n",
       "School Type                                                              \n",
       "Charter               83.473852              83.896421       93.620830   \n",
       "District              76.956733              80.966636       66.548453   \n",
       "\n",
       "             % Passing Reading  \n",
       "School Type                     \n",
       "Charter              96.586489  \n",
       "District             80.799062  "
      ]
     },
     "execution_count": 186,
     "metadata": {},
     "output_type": "execute_result"
    }
   ],
   "source": [
    "type_summary = pd.DataFrame({\n",
    "    \"Average Math Score\": type_math_scores,\n",
    "    \"Average Reading Score\": type_reading_scores,\n",
    "    \"% Passing Math\": type_passing_math,\n",
    "    \"% Passing Reading\": type_passing_reading})\n",
    "\n",
    "type_summary "
   ]
  },
  {
   "cell_type": "code",
   "execution_count": 191,
   "id": "0f3d46f7",
   "metadata": {},
   "outputs": [
    {
     "name": "stdout",
     "output_type": "stream",
     "text": [
      "Requirement already satisfied: jupytext in ./lib/python3.11/site-packages (1.16.1)\n",
      "Requirement already satisfied: markdown-it-py>=1.0 in ./lib/python3.11/site-packages (from jupytext) (2.2.0)\n",
      "Requirement already satisfied: mdit-py-plugins in ./lib/python3.11/site-packages (from jupytext) (0.3.0)\n",
      "Requirement already satisfied: nbformat in ./lib/python3.11/site-packages (from jupytext) (5.9.2)\n",
      "Requirement already satisfied: packaging in ./lib/python3.11/site-packages (from jupytext) (23.1)\n",
      "Requirement already satisfied: pyyaml in ./lib/python3.11/site-packages (from jupytext) (6.0)\n",
      "Requirement already satisfied: toml in ./lib/python3.11/site-packages (from jupytext) (0.10.2)\n",
      "Requirement already satisfied: mdurl~=0.1 in ./lib/python3.11/site-packages (from markdown-it-py>=1.0->jupytext) (0.1.0)\n",
      "Requirement already satisfied: fastjsonschema in ./lib/python3.11/site-packages (from nbformat->jupytext) (2.16.2)\n",
      "Requirement already satisfied: jsonschema>=2.6 in ./lib/python3.11/site-packages (from nbformat->jupytext) (4.17.3)\n",
      "Requirement already satisfied: jupyter-core in ./lib/python3.11/site-packages (from nbformat->jupytext) (5.3.0)\n",
      "Requirement already satisfied: traitlets>=5.1 in ./lib/python3.11/site-packages (from nbformat->jupytext) (5.7.1)\n",
      "Requirement already satisfied: attrs>=17.4.0 in ./lib/python3.11/site-packages (from jsonschema>=2.6->nbformat->jupytext) (22.1.0)\n",
      "Requirement already satisfied: pyrsistent!=0.17.0,!=0.17.1,!=0.17.2,>=0.14.0 in ./lib/python3.11/site-packages (from jsonschema>=2.6->nbformat->jupytext) (0.18.0)\n",
      "Requirement already satisfied: platformdirs>=2.5 in ./lib/python3.11/site-packages (from jupyter-core->nbformat->jupytext) (3.10.0)\n",
      "Note: you may need to restart the kernel to use updated packages.\n",
      "zsh:1: no such file or directory: py_city_schools_challenge\n"
     ]
    }
   ],
   "source": [
    "%pip install jupytext\n",
    "!jupytext --to notebook <py_city_schools_challenge>.py"
   ]
  },
  {
   "cell_type": "code",
   "execution_count": null,
   "id": "9ebff84e",
   "metadata": {},
   "outputs": [],
   "source": []
  }
 ],
 "metadata": {
  "kernelspec": {
   "display_name": "Python 3 (ipykernel)",
   "language": "python",
   "name": "python3"
  },
  "language_info": {
   "codemirror_mode": {
    "name": "ipython",
    "version": 3
   },
   "file_extension": ".py",
   "mimetype": "text/x-python",
   "name": "python",
   "nbconvert_exporter": "python",
   "pygments_lexer": "ipython3",
   "version": "3.11.5"
  }
 },
 "nbformat": 4,
 "nbformat_minor": 5
}
